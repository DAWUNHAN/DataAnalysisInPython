{
 "cells": [
  {
   "cell_type": "markdown",
   "metadata": {},
   "source": [
    "# 소상공인시장진흥공단 상가업소정보로 스타벅스, 이디야 위치 분석하기"
   ]
  },
  {
   "cell_type": "markdown",
   "metadata": {},
   "source": [
    "## 데이터셋\n",
    "\n",
    "- https://www.data.go.kr/dataset/15012005/fileData.do\n",
    "- 구별로 매장수를 표현하기 위해 GeoJSON 파일 로드\n",
    "- 파일출처 : southkorea/seoul-maps: Seoul administrative divisions in ESRI Shapefile, GeoJSON and TopoJSON formats.\n",
    "- 이 링크에서도 다운로드가 가능합니다. https://drive.google.com/open?id=13j8-_XLdPe0pptsqu8-uyE-0Ym6V2jw5"
   ]
  },
  {
   "cell_type": "markdown",
   "metadata": {},
   "source": [
    "## 라이브러리 불러오기"
   ]
  },
  {
   "cell_type": "code",
   "execution_count": 1,
   "metadata": {},
   "outputs": [],
   "source": [
    "# 데이터 분석을 위해 pandas를, 수치계산을 위해 numpy를, 시각화를 위해 seaborn을 불러옵니다.\n",
    "import pandas as pd\n",
    "import numpy as np\n",
    "import seaborn as sns"
   ]
  },
  {
   "cell_type": "code",
   "execution_count": 2,
   "metadata": {},
   "outputs": [],
   "source": [
    "# 한글폰트 설정\n",
    "import matplotlib.pyplot as plt\n",
    "\n",
    "plt.rc(\"font\", family=\"AppleGothic\")\n",
    "plt.rc(\"axes\", unicode_minus=False)"
   ]
  },
  {
   "cell_type": "code",
   "execution_count": 3,
   "metadata": {},
   "outputs": [],
   "source": [
    "# 폰트가 선명하게 보이도록 retina 설정\n",
    "from IPython.display import set_matplotlib_formats\n",
    "\n",
    "set_matplotlib_formats(\"retina\")"
   ]
  },
  {
   "cell_type": "code",
   "execution_count": 4,
   "metadata": {},
   "outputs": [
    {
     "data": {
      "text/plain": [
       "<AxesSubplot:title={'center':'한글폰트'}>"
      ]
     },
     "execution_count": 4,
     "metadata": {},
     "output_type": "execute_result"
    },
    {
     "data": {
      "image/png": "[encoded data removed]",
      "text/plain": [
       "<Figure size 432x288 with 1 Axes>"
      ]
     },
     "metadata": {
      "image/png": {
       "height": 263,
       "width": 367
      },
      "needs_background": "light"
     },
     "output_type": "display_data"
    }
   ],
   "source": [
    "# 한글폰트와 마이너스 폰트 설정 확인\n",
    "\n",
    "pd.Series([-1, 0, 1, 3, 5]).plot(title=\"한글폰트\")"
   ]
  },
  {
   "cell_type": "markdown",
   "metadata": {},
   "source": [
    "## 데이터 불러오기"
   ]
  },
  {
   "cell_type": "code",
   "execution_count": 5,
   "metadata": {},
   "outputs": [
    {
     "data": {
      "text/plain": [
       "(573680, 39)"
      ]
     },
     "execution_count": 5,
     "metadata": {},
     "output_type": "execute_result"
    }
   ],
   "source": [
    "# 파일을 불러와 df 라는 변수에 담습니다.\n",
    "# shape 를 통해 불러온 csv 파일의 크기를 확인합니다.\n",
    "df = pd.read_csv(\"data/상가업소정보_201912_01.csv\", sep='|')\n",
    "df.shape"
   ]
  },
  {
   "cell_type": "code",
   "execution_count": 6,
   "metadata": {},
   "outputs": [
    {
     "data": {
      "text/html": [
       "<div>\n",
       "<style scoped>\n",
       "    .dataframe tbody tr th:only-of-type {\n",
       "        vertical-align: middle;\n",
       "    }\n",
       "\n",
       "    .dataframe tbody tr th {\n",
       "        vertical-align: top;\n",
       "    }\n",
       "\n",
       "    .dataframe thead th {\n",
       "        text-align: right;\n",
       "    }\n",
       "</style>\n",
       "<table border=\"1\" class=\"dataframe\">\n",
       "  <thead>\n",
       "    <tr style=\"text-align: right;\">\n",
       "      <th></th>\n",
       "      <th>상가업소번호</th>\n",
       "      <th>상호명</th>\n",
       "      <th>지점명</th>\n",
       "      <th>상권업종대분류코드</th>\n",
       "      <th>상권업종대분류명</th>\n",
       "      <th>상권업종중분류코드</th>\n",
       "      <th>상권업종중분류명</th>\n",
       "      <th>상권업종소분류코드</th>\n",
       "      <th>상권업종소분류명</th>\n",
       "      <th>표준산업분류코드</th>\n",
       "      <th>...</th>\n",
       "      <th>건물관리번호</th>\n",
       "      <th>건물명</th>\n",
       "      <th>도로명주소</th>\n",
       "      <th>구우편번호</th>\n",
       "      <th>신우편번호</th>\n",
       "      <th>동정보</th>\n",
       "      <th>층정보</th>\n",
       "      <th>호정보</th>\n",
       "      <th>경도</th>\n",
       "      <th>위도</th>\n",
       "    </tr>\n",
       "  </thead>\n",
       "  <tbody>\n",
       "    <tr>\n",
       "      <th>0</th>\n",
       "      <td>19905471</td>\n",
       "      <td>와라와라호프</td>\n",
       "      <td>NaN</td>\n",
       "      <td>Q</td>\n",
       "      <td>음식</td>\n",
       "      <td>Q09</td>\n",
       "      <td>유흥주점</td>\n",
       "      <td>Q09A01</td>\n",
       "      <td>호프/맥주</td>\n",
       "      <td>I56219</td>\n",
       "      <td>...</td>\n",
       "      <td>1168010600106040000014378</td>\n",
       "      <td>대치상가</td>\n",
       "      <td>서울특별시 강남구 남부순환로 2933</td>\n",
       "      <td>135280</td>\n",
       "      <td>6280.0</td>\n",
       "      <td>NaN</td>\n",
       "      <td>1</td>\n",
       "      <td>NaN</td>\n",
       "      <td>127.061026</td>\n",
       "      <td>37.493922</td>\n",
       "    </tr>\n",
       "  </tbody>\n",
       "</table>\n",
       "<p>1 rows × 39 columns</p>\n",
       "</div>"
      ],
      "text/plain": [
       "     상가업소번호     상호명  지점명 상권업종대분류코드 상권업종대분류명 상권업종중분류코드 상권업종중분류명 상권업종소분류코드  \\\n",
       "0  19905471  와라와라호프  NaN         Q       음식       Q09     유흥주점    Q09A01   \n",
       "\n",
       "  상권업종소분류명 표준산업분류코드  ...                     건물관리번호   건물명  \\\n",
       "0    호프/맥주   I56219  ...  1168010600106040000014378  대치상가   \n",
       "\n",
       "                  도로명주소   구우편번호   신우편번호  동정보 층정보  호정보          경도         위도  \n",
       "0  서울특별시 강남구 남부순환로 2933  135280  6280.0  NaN   1  NaN  127.061026  37.493922  \n",
       "\n",
       "[1 rows x 39 columns]"
      ]
     },
     "execution_count": 6,
     "metadata": {},
     "output_type": "execute_result"
    }
   ],
   "source": [
    "df.head(1)"
   ]
  },
  {
   "cell_type": "markdown",
   "metadata": {},
   "source": [
    "## info 보기"
   ]
  },
  {
   "cell_type": "code",
   "execution_count": 7,
   "metadata": {},
   "outputs": [
    {
     "name": "stdout",
     "output_type": "stream",
     "text": [
      "<class 'pandas.core.frame.DataFrame'>\n",
      "RangeIndex: 573680 entries, 0 to 573679\n",
      "Data columns (total 39 columns):\n",
      " #   Column     Non-Null Count   Dtype  \n",
      "---  ------     --------------   -----  \n",
      " 0   상가업소번호     573680 non-null  int64  \n",
      " 1   상호명        573679 non-null  object \n",
      " 2   지점명        76674 non-null   object \n",
      " 3   상권업종대분류코드  573680 non-null  object \n",
      " 4   상권업종대분류명   573680 non-null  object \n",
      " 5   상권업종중분류코드  573680 non-null  object \n",
      " 6   상권업종중분류명   573680 non-null  object \n",
      " 7   상권업종소분류코드  573680 non-null  object \n",
      " 8   상권업종소분류명   573680 non-null  object \n",
      " 9   표준산업분류코드   539290 non-null  object \n",
      " 10  표준산업분류명    539290 non-null  object \n",
      " 11  시도코드       573680 non-null  int64  \n",
      " 12  시도명        573680 non-null  object \n",
      " 13  시군구코드      573680 non-null  int64  \n",
      " 14  시군구명       573680 non-null  object \n",
      " 15  행정동코드      573680 non-null  int64  \n",
      " 16  행정동명       573680 non-null  object \n",
      " 17  법정동코드      573680 non-null  int64  \n",
      " 18  법정동명       573680 non-null  object \n",
      " 19  지번코드       573680 non-null  int64  \n",
      " 20  대지구분코드     573680 non-null  int64  \n",
      " 21  대지구분명      573680 non-null  object \n",
      " 22  지번본번지      573680 non-null  int64  \n",
      " 23  지번부번지      474924 non-null  float64\n",
      " 24  지번주소       573680 non-null  object \n",
      " 25  도로명코드      573680 non-null  int64  \n",
      " 26  도로명        573680 non-null  object \n",
      " 27  건물본번지      573680 non-null  int64  \n",
      " 28  건물부번지      71988 non-null   float64\n",
      " 29  건물관리번호     573680 non-null  object \n",
      " 30  건물명        265608 non-null  object \n",
      " 31  도로명주소      573680 non-null  object \n",
      " 32  구우편번호      573680 non-null  int64  \n",
      " 33  신우편번호      573671 non-null  float64\n",
      " 34  동정보        50856 non-null   object \n",
      " 35  층정보        347127 non-null  object \n",
      " 36  호정보        85266 non-null   object \n",
      " 37  경도         573680 non-null  float64\n",
      " 38  위도         573680 non-null  float64\n",
      "dtypes: float64(5), int64(11), object(23)\n",
      "memory usage: 170.7+ MB\n"
     ]
    }
   ],
   "source": [
    "# info 를 사용하면 데이터의 전체적인 정보를 볼 수 있습니다.\n",
    "# 데이터의 사이즈, 타입, 메모리 사용량 등을 볼 수 있습니다.\n",
    "\n",
    "df.info()"
   ]
  },
  {
   "cell_type": "markdown",
   "metadata": {},
   "source": [
    "## 결측치 보기"
   ]
  },
  {
   "cell_type": "code",
   "execution_count": 8,
   "metadata": {},
   "outputs": [
    {
     "data": {
      "text/plain": [
       "<AxesSubplot:>"
      ]
     },
     "execution_count": 8,
     "metadata": {},
     "output_type": "execute_result"
    },
    {
     "data": {
      "image/png": "[encoded data removed]",
      "text/plain": [
       "<Figure size 576x648 with 1 Axes>"
      ]
     },
     "metadata": {
      "image/png": {
       "height": 520,
       "width": 557
      },
      "needs_background": "light"
     },
     "output_type": "display_data"
    }
   ],
   "source": [
    "# isnull() 을 사용하면 데이터의 결측치를 볼 수 있습니다.\n",
    "# 결측치는 True로 값이 있다면 False로 표시되는데 True 는 1과 같기 때문에 \n",
    "# True 값을 sum()을 사용해서 더하게 되면 합계를 볼 수 있습니다.\n",
    "df.isnull().sum().plot.barh(figsize=(8, 9))"
   ]
  },
  {
   "cell_type": "markdown",
   "metadata": {},
   "source": [
    "## 사용하지 않는 컬럼 제거하기"
   ]
  },
  {
   "cell_type": "code",
   "execution_count": 9,
   "metadata": {},
   "outputs": [
    {
     "data": {
      "text/plain": [
       "(573680, 11)"
      ]
     },
     "execution_count": 9,
     "metadata": {},
     "output_type": "execute_result"
    }
   ],
   "source": [
    "# drop을 하는 방법도 있지만 사용할 컬럼만 따로 모아서 보는 방법.\n",
    "\n",
    "columns = ['상호명', '상권업종대분류명', '상권업종중분류명', '상권업종소분류명', \n",
    "           '시도명', '시군구명', '행정동명', '법정동명', '도로명주소', \n",
    "           '경도', '위도']\n",
    "\n",
    "df = df[columns].copy()\n",
    "df.shape"
   ]
  },
  {
   "cell_type": "code",
   "execution_count": 10,
   "metadata": {},
   "outputs": [
    {
     "name": "stdout",
     "output_type": "stream",
     "text": [
      "<class 'pandas.core.frame.DataFrame'>\n",
      "RangeIndex: 573680 entries, 0 to 573679\n",
      "Data columns (total 11 columns):\n",
      " #   Column    Non-Null Count   Dtype  \n",
      "---  ------    --------------   -----  \n",
      " 0   상호명       573679 non-null  object \n",
      " 1   상권업종대분류명  573680 non-null  object \n",
      " 2   상권업종중분류명  573680 non-null  object \n",
      " 3   상권업종소분류명  573680 non-null  object \n",
      " 4   시도명       573680 non-null  object \n",
      " 5   시군구명      573680 non-null  object \n",
      " 6   행정동명      573680 non-null  object \n",
      " 7   법정동명      573680 non-null  object \n",
      " 8   도로명주소     573680 non-null  object \n",
      " 9   경도        573680 non-null  float64\n",
      " 10  위도        573680 non-null  float64\n",
      "dtypes: float64(2), object(9)\n",
      "memory usage: 48.1+ MB\n"
     ]
    }
   ],
   "source": [
    "# 제거 후 메모리 사용량 보기\n",
    "df.info()"
   ]
  },
  {
   "cell_type": "markdown",
   "metadata": {},
   "source": [
    "# 서브셋 가져오기"
   ]
  },
  {
   "cell_type": "markdown",
   "metadata": {},
   "source": [
    "## 서울 데이터만 가져오기"
   ]
  },
  {
   "cell_type": "code",
   "execution_count": 11,
   "metadata": {},
   "outputs": [
    {
     "data": {
      "text/plain": [
       "(407376, 11)"
      ]
     },
     "execution_count": 11,
     "metadata": {},
     "output_type": "execute_result"
    }
   ],
   "source": [
    "# 시도명이 서울특별시인 경우, df_seoul에 넣어준다.\n",
    "\n",
    "df_seoul = df[df[\"시도명\"] == \"서울특별시\"].copy()\n",
    "df_seoul.shape"
   ]
  },
  {
   "cell_type": "markdown",
   "metadata": {},
   "source": [
    "## 특정 텍스트가 들어가는 데이터만 가져오기"
   ]
  },
  {
   "cell_type": "code",
   "execution_count": 12,
   "metadata": {},
   "outputs": [],
   "source": [
    "# \"상호명_소문자\" 칼럼을 생성\n",
    "\n",
    "df_seoul[\"상호명_소문자\"] = df_seoul[\"상호명\"].str.lower()"
   ]
  },
  {
   "cell_type": "code",
   "execution_count": 17,
   "metadata": {},
   "outputs": [
    {
     "data": {
      "text/plain": [
       "(543,)"
      ]
     },
     "execution_count": 17,
     "metadata": {},
     "output_type": "execute_result"
    }
   ],
   "source": [
    "# 상호명_소문자가 \"이디야|이디아|ediya\" 인 경우\n",
    "\n",
    "df_seoul.loc[df_seoul[\"상호명_소문자\"].str.contains(\"이디야|이디아|ediya\"), \"상호명_소문자\"].shape"
   ]
  },
  {
   "cell_type": "code",
   "execution_count": 19,
   "metadata": {},
   "outputs": [
    {
     "data": {
      "text/plain": [
       "(506,)"
      ]
     },
     "execution_count": 19,
     "metadata": {},
     "output_type": "execute_result"
    }
   ],
   "source": [
    "# 상호명_소문자가 \"스타벅스|starbucks\"인 경우\n",
    "\n",
    "df_seoul.loc[df_seoul[\"상호명_소문자\"].str.contains(\"스타벅스|starbucks\"), \"상호명_소문자\"].shape"
   ]
  },
  {
   "cell_type": "code",
   "execution_count": 22,
   "metadata": {},
   "outputs": [
    {
     "data": {
      "text/plain": [
       "(1049, 12)"
      ]
     },
     "execution_count": 22,
     "metadata": {},
     "output_type": "execute_result"
    }
   ],
   "source": [
    "# 상호명_소문자가 \"이디야|이디아|ediya|스타벅스|starbucks\" 인 경우, df_cafe에 넣어주기.\n",
    "\n",
    "df_cafe = df_seoul[df_seoul[\"상호명_소문자\"].str.contains(\"이디야|이디아|ediya|스타벅스|starbucks\")].copy()\n",
    "df_cafe.shape"
   ]
  },
  {
   "cell_type": "code",
   "execution_count": 27,
   "metadata": {},
   "outputs": [
    {
     "data": {
      "text/html": [
       "<div>\n",
       "<style scoped>\n",
       "    .dataframe tbody tr th:only-of-type {\n",
       "        vertical-align: middle;\n",
       "    }\n",
       "\n",
       "    .dataframe tbody tr th {\n",
       "        vertical-align: top;\n",
       "    }\n",
       "\n",
       "    .dataframe thead th {\n",
       "        text-align: right;\n",
       "    }\n",
       "</style>\n",
       "<table border=\"1\" class=\"dataframe\">\n",
       "  <thead>\n",
       "    <tr style=\"text-align: right;\">\n",
       "      <th></th>\n",
       "      <th>상호명_소문자</th>\n",
       "      <th>브랜드명</th>\n",
       "    </tr>\n",
       "  </thead>\n",
       "  <tbody>\n",
       "    <tr>\n",
       "      <th>1104</th>\n",
       "      <td>스타벅스</td>\n",
       "      <td>스타벅스</td>\n",
       "    </tr>\n",
       "    <tr>\n",
       "      <th>1675</th>\n",
       "      <td>이디야커피</td>\n",
       "      <td>NaN</td>\n",
       "    </tr>\n",
       "    <tr>\n",
       "      <th>2023</th>\n",
       "      <td>스타벅스종로3가점</td>\n",
       "      <td>스타벅스</td>\n",
       "    </tr>\n",
       "    <tr>\n",
       "      <th>2770</th>\n",
       "      <td>스타벅스</td>\n",
       "      <td>스타벅스</td>\n",
       "    </tr>\n",
       "    <tr>\n",
       "      <th>2957</th>\n",
       "      <td>이디야커피</td>\n",
       "      <td>NaN</td>\n",
       "    </tr>\n",
       "  </tbody>\n",
       "</table>\n",
       "</div>"
      ],
      "text/plain": [
       "        상호명_소문자  브랜드명\n",
       "1104       스타벅스  스타벅스\n",
       "1675      이디야커피   NaN\n",
       "2023  스타벅스종로3가점  스타벅스\n",
       "2770       스타벅스  스타벅스\n",
       "2957      이디야커피   NaN"
      ]
     },
     "execution_count": 27,
     "metadata": {},
     "output_type": "execute_result"
    }
   ],
   "source": [
    "# 상호명_소문자가 스타벅스인 경우 브랜드명을 스탁벅스로 넣는다.\n",
    "\n",
    "df_cafe.loc[df_cafe[\"상호명_소문자\"].str.contains(\"스타벅스|starbucks\"), \"브랜드명\"] = \"스타벅스\"\n",
    "df_cafe[[\"상호명_소문자\", \"브랜드명\"]].head()"
   ]
  },
  {
   "cell_type": "code",
   "execution_count": 28,
   "metadata": {},
   "outputs": [
    {
     "data": {
      "text/html": [
       "<div>\n",
       "<style scoped>\n",
       "    .dataframe tbody tr th:only-of-type {\n",
       "        vertical-align: middle;\n",
       "    }\n",
       "\n",
       "    .dataframe tbody tr th {\n",
       "        vertical-align: top;\n",
       "    }\n",
       "\n",
       "    .dataframe thead th {\n",
       "        text-align: right;\n",
       "    }\n",
       "</style>\n",
       "<table border=\"1\" class=\"dataframe\">\n",
       "  <thead>\n",
       "    <tr style=\"text-align: right;\">\n",
       "      <th></th>\n",
       "      <th>상호명_소문자</th>\n",
       "      <th>브랜드명</th>\n",
       "    </tr>\n",
       "  </thead>\n",
       "  <tbody>\n",
       "    <tr>\n",
       "      <th>1104</th>\n",
       "      <td>스타벅스</td>\n",
       "      <td>스타벅스</td>\n",
       "    </tr>\n",
       "    <tr>\n",
       "      <th>1675</th>\n",
       "      <td>이디야커피</td>\n",
       "      <td>이디야</td>\n",
       "    </tr>\n",
       "    <tr>\n",
       "      <th>2023</th>\n",
       "      <td>스타벅스종로3가점</td>\n",
       "      <td>스타벅스</td>\n",
       "    </tr>\n",
       "    <tr>\n",
       "      <th>2770</th>\n",
       "      <td>스타벅스</td>\n",
       "      <td>스타벅스</td>\n",
       "    </tr>\n",
       "    <tr>\n",
       "      <th>2957</th>\n",
       "      <td>이디야커피</td>\n",
       "      <td>이디야</td>\n",
       "    </tr>\n",
       "  </tbody>\n",
       "</table>\n",
       "</div>"
      ],
      "text/plain": [
       "        상호명_소문자  브랜드명\n",
       "1104       스타벅스  스타벅스\n",
       "1675      이디야커피   이디야\n",
       "2023  스타벅스종로3가점  스타벅스\n",
       "2770       스타벅스  스타벅스\n",
       "2957      이디야커피   이디야"
      ]
     },
     "execution_count": 28,
     "metadata": {},
     "output_type": "execute_result"
    }
   ],
   "source": [
    "# 상호명_소문자가 스타벅스가 아닌 경우, 이디야로 넣어주기.\n",
    "\n",
    "df_cafe.loc[~df_cafe[\"상호명_소문자\"].str.contains(\"스타벅스|starbucks\"), \"브랜드명\"] = \"이디야\"\n",
    "df_cafe[[\"상호명_소문자\", \"브랜드명\"]].head()"
   ]
  },
  {
   "cell_type": "code",
   "execution_count": 30,
   "metadata": {},
   "outputs": [
    {
     "data": {
      "text/html": [
       "<div>\n",
       "<style scoped>\n",
       "    .dataframe tbody tr th:only-of-type {\n",
       "        vertical-align: middle;\n",
       "    }\n",
       "\n",
       "    .dataframe tbody tr th {\n",
       "        vertical-align: top;\n",
       "    }\n",
       "\n",
       "    .dataframe thead th {\n",
       "        text-align: right;\n",
       "    }\n",
       "</style>\n",
       "<table border=\"1\" class=\"dataframe\">\n",
       "  <thead>\n",
       "    <tr style=\"text-align: right;\">\n",
       "      <th></th>\n",
       "      <th>상호명</th>\n",
       "      <th>브랜드명</th>\n",
       "    </tr>\n",
       "  </thead>\n",
       "  <tbody>\n",
       "    <tr>\n",
       "      <th>567090</th>\n",
       "      <td>스타벅스</td>\n",
       "      <td>스타벅스</td>\n",
       "    </tr>\n",
       "    <tr>\n",
       "      <th>567828</th>\n",
       "      <td>스타벅스</td>\n",
       "      <td>스타벅스</td>\n",
       "    </tr>\n",
       "    <tr>\n",
       "      <th>568636</th>\n",
       "      <td>이디야커피</td>\n",
       "      <td>이디야</td>\n",
       "    </tr>\n",
       "    <tr>\n",
       "      <th>570096</th>\n",
       "      <td>스타벅스</td>\n",
       "      <td>스타벅스</td>\n",
       "    </tr>\n",
       "    <tr>\n",
       "      <th>571052</th>\n",
       "      <td>스타벅스</td>\n",
       "      <td>스타벅스</td>\n",
       "    </tr>\n",
       "  </tbody>\n",
       "</table>\n",
       "</div>"
      ],
      "text/plain": [
       "          상호명  브랜드명\n",
       "567090   스타벅스  스타벅스\n",
       "567828   스타벅스  스타벅스\n",
       "568636  이디야커피   이디야\n",
       "570096   스타벅스  스타벅스\n",
       "571052   스타벅스  스타벅스"
      ]
     },
     "execution_count": 30,
     "metadata": {},
     "output_type": "execute_result"
    }
   ],
   "source": [
    "# tail로 미리보기\n",
    "\n",
    "df_cafe[[\"상호명\", \"브랜드명\"]].tail()"
   ]
  }
 ],
 "metadata": {
  "kernelspec": {
   "display_name": "Python 3",
   "language": "python",
   "name": "python3"
  },
  "language_info": {
   "codemirror_mode": {
    "name": "ipython",
    "version": 3
   },
   "file_extension": ".py",
   "mimetype": "text/x-python",
   "name": "python",
   "nbconvert_exporter": "python",
   "pygments_lexer": "ipython3",
   "version": "3.8.5"
  },
  "toc": {
   "base_numbering": 1,
   "nav_menu": {},
   "number_sections": true,
   "sideBar": true,
   "skip_h1_title": false,
   "title_cell": "Table of Contents",
   "title_sidebar": "Contents",
   "toc_cell": false,
   "toc_position": {},
   "toc_section_display": true,
   "toc_window_display": false
  }
 },
 "nbformat": 4,
 "nbformat_minor": 4
}
